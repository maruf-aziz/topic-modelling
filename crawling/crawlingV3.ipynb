{
 "cells": [
  {
   "cell_type": "code",
   "execution_count": 1,
   "metadata": {},
   "outputs": [],
   "source": [
    "import tweepy\n",
    "from tweepy import OAuthHandler\n",
    "from tweepy import Stream \n",
    "import pandas as pd\n",
    "import csv\n",
    "import datetime"
   ]
  },
  {
   "cell_type": "code",
   "execution_count": 2,
   "metadata": {},
   "outputs": [],
   "source": [
    "access_token = \"1456897593196171265-GpjXAmlBZIWlhXnBh8PRhyaePy78BP\"\n",
    "access_token_secret = \"jD8y1qPhRNZv5irRKJgYoYMs7vj9PYPhy4XL43RhpceUB\"\n",
    "api_key = \"eEiWUnz8qVGWOLQaRv0joVfrK\"\n",
    "api_key_secret = \"10Xytw1lNJZbcn4kxaedIq2XaI6BXRP6PhXYvkPUOFZEscStN6\""
   ]
  },
  {
   "cell_type": "code",
   "execution_count": 3,
   "metadata": {},
   "outputs": [],
   "source": [
    "auth = tweepy.OAuthHandler(api_key, api_key_secret)\n",
    "auth.set_access_token(access_token, access_token_secret)\n",
    "api = tweepy.API(auth, wait_on_rate_limit=True)\n",
    "\n",
    "try:\n",
    "    redirect_url = auth.get_authorization_url()\n",
    "except tweepy.TweepError:\n",
    "    print('Error! Failed to get request token.')"
   ]
  },
  {
   "cell_type": "code",
   "execution_count": 5,
   "metadata": {},
   "outputs": [],
   "source": [
    "tweetPerQty = 100\n",
    "maxTweets = 10000\n",
    "search_key = \"data bocor\"\n",
    "maxId = -1\n",
    "tweetCount = 0"
   ]
  },
  {
   "cell_type": "code",
   "execution_count": 9,
   "metadata": {},
   "outputs": [
    {
     "name": "stdout",
     "output_type": "stream",
     "text": [
      "Tweet Habis\n"
     ]
    }
   ],
   "source": [
    "csvFile = open(search_key+\"2.csv\",\"a+\", newline=\"\", encoding=\"utf-8\")\n",
    "csvWriter = csv.writer(csvFile)\n",
    "c = []\n",
    "i = []\n",
    "u = []\n",
    "t = []\n",
    "\n",
    "while tweetCount < maxTweets:\n",
    "  if maxId <= 0:\n",
    "    newTweets = api.search_tweets(q=\"jokoowi\", count=tweetPerQty, tweet_mode=\"extended\")\n",
    "\n",
    "  newTweets = api.search_tweets(q=\"jokoowi\", count=tweetPerQty, tweet_mode=\"extended\", max_id=str(maxId-1))\n",
    "\n",
    "  if not newTweets:\n",
    "    print(\"Tweet Habis\")\n",
    "    break\n",
    "\n",
    "  for tweet in newTweets:\n",
    "    \n",
    "    dictTweet = {\n",
    "      \"id\" : tweet.id,\n",
    "      \"time\"  : tweet.created_at,\n",
    "      \"username\" : tweet.user.name,\n",
    "      \"tweet\" : tweet.full_text.encode('utf-8')\n",
    "    }\n",
    "    print(\"{id} {username} {time} : {tweet}\".format(id=dictTweet[\"id\"], username=dictTweet[\"username\"], tweet=dictTweet[\"tweet\"], time=dictTweet[\"time\"]))\n",
    "    #with open(search_key+\".csv\",'a+', newline='') as csv_file:\n",
    "    #  fieldNames = [\"time\", \"username\", \"tweet\"]\n",
    "    #  writer = csv.DictWriter(csv_file, fieldnames=fieldNames, delimiter=\";\")\n",
    "    #  writer.writerow(dictTweet)\n",
    "\n",
    "    c.append(tweet.created_at)\n",
    "    i.append(tweet.id)\n",
    "    u.append(tweet.user.name)\n",
    "    t.append(tweet.full_text.encode(\"utf-8\"))\n",
    "    tweets = [tweet.created_at, tweet.id, tweet.user.name, tweet.full_text.encode(\"utf-8\")]\n",
    "    csvWriter.writerow(tweets)\n",
    "\n",
    "  dictTweets = {\"waktu\":c, \"id\":i, \"username\":u, \"teks\":t}\n",
    "\n",
    "  tweetCount += len(newTweets)\n",
    "  maxId = newTweets[-1].id"
   ]
  }
 ],
 "metadata": {
  "interpreter": {
   "hash": "383ff6ec061058c8c67bbbe8229d15dd1c5eb70693263c63cde4fbc9e65720c5"
  },
  "kernelspec": {
   "display_name": "Python 3.8.5 64-bit ('base': conda)",
   "language": "python",
   "name": "python3"
  },
  "language_info": {
   "codemirror_mode": {
    "name": "ipython",
    "version": 3
   },
   "file_extension": ".py",
   "mimetype": "text/x-python",
   "name": "python",
   "nbconvert_exporter": "python",
   "pygments_lexer": "ipython3",
   "version": "3.10.0"
  },
  "orig_nbformat": 4
 },
 "nbformat": 4,
 "nbformat_minor": 2
}
