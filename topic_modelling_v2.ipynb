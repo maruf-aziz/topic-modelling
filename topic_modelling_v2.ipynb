{
 "cells": [
  {
   "cell_type": "code",
   "execution_count": 33,
   "metadata": {},
   "outputs": [],
   "source": [
    "import warnings\n",
    "warnings.filterwarnings('ignore')\n",
    "\n",
    "import matplotlib.pyplot as plt\n",
    "import re\n",
    "import numpy as np\n",
    "import pandas as pd\n",
    "import gensim\n",
    "import nltk\n",
    "\n",
    "from nltk.stem.snowball import SnowballStemmer\n",
    "\n",
    "from gensim.corpora import Dictionary, MmCorpus\n",
    "from gensim.models import ldamodel, lsimodel\n",
    "\n",
    "from sklearn.cluster import KMeans\n",
    "from sklearn.manifold import MDS\n",
    "from sklearn.decomposition import PCA"
   ]
  },
  {
   "cell_type": "code",
   "execution_count": 4,
   "metadata": {},
   "outputs": [],
   "source": [
    "def load_dataset(filename):\n",
    "    file = open(filename, 'r')\n",
    "\n",
    "    acc_names = []\n",
    "    tweets = []\n",
    "\n",
    "    for line in file:\n",
    "        line = line.strip()\n",
    "        parts = line.split('###')\n",
    "        acc_names.append(parts[0])\n",
    "        tweets.append(parts[1])\n",
    "\n",
    "    return acc_names, tweets"
   ]
  },
  {
   "cell_type": "code",
   "execution_count": 5,
   "metadata": {},
   "outputs": [],
   "source": [
    "# config variables\n",
    "num_topics=4"
   ]
  },
  {
   "cell_type": "code",
   "execution_count": 6,
   "metadata": {},
   "outputs": [],
   "source": [
    "# definisikan beberapa fungsi untuk kebutuhkan pre-processing, pre-processing yang dilakukan adalah\n",
    "# 1. lowercasing\n",
    "# 2. stopword removal\n",
    "# 3. stemming\n",
    "\n",
    "stemmer = SnowballStemmer(\"english\")\n",
    "stopwords = nltk.corpus.stopwords.words('english')\n",
    "\n",
    "def preprocess(text):\n",
    "\n",
    "    # tokenizing and lowercasing\n",
    "    tokens = [word.lower() for word in text.split()]\n",
    "    filtered_tokens = []\n",
    "\n",
    "    # buat yang bukan terdiri dari alfabet, dan merupakan stopword\n",
    "    for token in tokens:\n",
    "        if re.search('[a-zA-Z]', token) and (token not in stopwords):\n",
    "            filtered_tokens.append(token)\n",
    "\n",
    "    # lakukan stemming dengan snowball stemmer\n",
    "    stems = [stemmer.stem(t) for t in filtered_tokens]\n",
    "    return stems"
   ]
  },
  {
   "cell_type": "code",
   "execution_count": 7,
   "metadata": {},
   "outputs": [],
   "source": [
    "# Kita load dokumen twitter, dan lakukan preprocessing terhadap tweet yang sudah di-load\n",
    "acc_names, tweets = load_dataset(\"twitter.txt\")\n",
    "\n",
    "# Lakukan pre-process untuk setiap tweet pada koleksi \"tweets\" kita\n",
    "# Gunakan List Comprehension untuk mempermudah hidup kita\n",
    "tweets = [preprocess(tweet) for tweet in tweets]"
   ]
  },
  {
   "cell_type": "code",
   "execution_count": 8,
   "metadata": {},
   "outputs": [],
   "source": [
    "# membuat term dictionary dari korpus kita, dimana setiap kata unik akan diberikan sebuah index\n",
    "dictionary = Dictionary(tweets)\n",
    "\n",
    "# buang term yang:\n",
    "# 1. muncul di kurang dari 2 dokumen\n",
    "# 2. muncul di lebih dari 0.9*(total_dok) dokumen\n",
    "dictionary.filter_extremes(no_below=2, no_above=0.9)\n",
    "\n",
    "# ubah dictionary menjadi object bag-of-words reference\n",
    "# ingat bahwa dalama LDA, dokumen diasumsikan dengan bag-of-words model\n",
    "corpus = [dictionary.doc2bow(tweet) for tweet in tweets]"
   ]
  },
  {
   "cell_type": "code",
   "execution_count": 48,
   "metadata": {},
   "outputs": [],
   "source": [
    "# Run the LDA !\n",
    "# lda = ldamodel.LdaModel(corpus, num_topics=num_topics, id2word=dictionary, random_state=1, iterations=5000)\n",
    "lda = lsimodel.LsiModel(corpus, num_topics=num_topics, id2word=dictionary)"
   ]
  },
  {
   "cell_type": "code",
   "execution_count": 49,
   "metadata": {},
   "outputs": [
    {
     "name": "stdout",
     "output_type": "stream",
     "text": [
      "topic number: 0\n",
      "samsung 0.569450483229191\n",
      "galaxi 0.4600082240489243\n",
      "note 0.36977819922289323\n",
      "iphon 0.30583727211129696\n",
      "leagu 0.252185111761406\n",
      "champion 0.24167465131952323\n",
      "time 0.11026118624489066\n",
      "year 0.10798110206520756\n",
      "full 0.09514996018605537\n",
      "still 0.08925825364615349\n",
      "topic number: 1\n",
      "leagu 0.6161956881090623\n",
      "champion 0.5871219620209108\n",
      "samsung -0.24933798093875081\n",
      "galaxi -0.19947051924853998\n",
      "note -0.161671424231475\n",
      "premier 0.12768783083197358\n",
      "club 0.12614770428359953\n",
      "iphon -0.12558737335257666\n",
      "league. 0.10866317305149654\n",
      "chelsea 0.10417389455442705\n",
      "topic number: 2\n",
      "referendum 0.6705314663999484\n",
      "catalunya 0.5553513130271788\n",
      "catalan 0.22396337811774178\n",
      "support 0.21550103319547456\n",
      "spanish 0.14628019942544992\n",
      "block 0.14075350826826624\n",
      "referendum, 0.12437357871861836\n",
      "barcelona 0.10199862319150932\n",
      "watch 0.10103118357056609\n",
      "due 0.1008174560698354\n",
      "topic number: 3\n",
      "iphon 0.8698735830970042\n",
      "note -0.28248394834723356\n",
      "samsung -0.19625605062044346\n",
      "year 0.18683490082167334\n",
      "galaxi -0.16177379814925363\n",
      "watch 0.12435525204538998\n",
      "so, 0.11247485407851004\n",
      "new 0.07607598026914171\n",
      "main -0.06946806186966503\n",
      "time 0.06873268455652215\n"
     ]
    }
   ],
   "source": [
    "\n",
    "# tampilkan topic matrix\n",
    "topics_matrix = lda.show_topics(formatted=False)\n",
    "\n",
    "for topic_no, topic_words in topics_matrix:\n",
    "\n",
    "    print ('topic number: {}'.format(topic_no))\n",
    "\n",
    "    # default: top-10 kata yang paling tinggi probabilitasnya\n",
    "    for word, prob in topic_words:\n",
    "        print (word, prob)"
   ]
  },
  {
   "cell_type": "code",
   "execution_count": 50,
   "metadata": {},
   "outputs": [
    {
     "name": "stdout",
     "output_type": "stream",
     "text": [
      "[(0, '0.569*\"samsung\" + 0.460*\"galaxi\" + 0.370*\"note\" + 0.306*\"iphon\" + 0.252*\"leagu\" + 0.242*\"champion\" + 0.110*\"time\" + 0.108*\"year\" + 0.095*\"full\" + 0.089*\"still\"'), (1, '0.616*\"leagu\" + 0.587*\"champion\" + -0.249*\"samsung\" + -0.199*\"galaxi\" + -0.162*\"note\" + 0.128*\"premier\" + 0.126*\"club\" + -0.126*\"iphon\" + 0.109*\"league.\" + 0.104*\"chelsea\"'), (2, '0.671*\"referendum\" + 0.555*\"catalunya\" + 0.224*\"catalan\" + 0.216*\"support\" + 0.146*\"spanish\" + 0.141*\"block\" + 0.124*\"referendum,\" + 0.102*\"barcelona\" + 0.101*\"watch\" + 0.101*\"due\"'), (3, '0.870*\"iphon\" + -0.282*\"note\" + -0.196*\"samsung\" + 0.187*\"year\" + -0.162*\"galaxi\" + 0.124*\"watch\" + 0.112*\"so,\" + 0.076*\"new\" + -0.069*\"main\" + 0.069*\"time\"')]\n"
     ]
    }
   ],
   "source": [
    "print (lda.show_topics())"
   ]
  },
  {
   "cell_type": "code",
   "execution_count": 52,
   "metadata": {},
   "outputs": [
    {
     "ename": "TypeError",
     "evalue": "get_topics() takes 1 positional argument but 2 were given",
     "output_type": "error",
     "traceback": [
      "\u001b[1;31m---------------------------------------------------------------------------\u001b[0m",
      "\u001b[1;31mTypeError\u001b[0m                                 Traceback (most recent call last)",
      "\u001b[1;32m<ipython-input-52-cf3f218423d9>\u001b[0m in \u001b[0;36m<module>\u001b[1;34m\u001b[0m\n\u001b[1;32m----> 1\u001b[1;33m \u001b[0mprint\u001b[0m\u001b[1;33m(\u001b[0m\u001b[0mlda\u001b[0m\u001b[1;33m.\u001b[0m\u001b[0mget_topics\u001b[0m\u001b[1;33m(\u001b[0m\u001b[0mdictionary\u001b[0m\u001b[1;33m.\u001b[0m\u001b[0mdoc2bow\u001b[0m\u001b[1;33m(\u001b[0m\u001b[0mtweet\u001b[0m\u001b[1;33m)\u001b[0m\u001b[1;33m)\u001b[0m\u001b[1;33m)\u001b[0m\u001b[1;33m\u001b[0m\u001b[1;33m\u001b[0m\u001b[0m\n\u001b[0m",
      "\u001b[1;31mTypeError\u001b[0m: get_topics() takes 1 positional argument but 2 were given"
     ]
    }
   ],
   "source": [
    "print(lda.get_topics(dictionary.doc2bow(tweet)))"
   ]
  },
  {
   "cell_type": "code",
   "execution_count": 44,
   "metadata": {},
   "outputs": [
    {
     "name": "stdout",
     "output_type": "stream",
     "text": [
      "[3, 0, 3, 2, 2, 1, 0, 2, 1, 1, 3, 3, 1, 0, 3, 0, 0, 3, 2, 2, 2, 1, 2, 2, 0, 2, 2, 2, 2, 2, 0, 1, 3, 3, 3, 1, 3, 1, 3, 3, 3, 3, 3, 1, 3, 3, 3, 3, 2, 3]\n"
     ]
    }
   ],
   "source": [
    "# bentuk terlebih dahulu vektor dokumen/tweet\n",
    "# vektor tweet/dokumen = vektor probabilitas terhadap masing-masing topik\n",
    "tweet_vectors = []\n",
    "for tweet in tweets:\n",
    "    probs = [prob for (_,prob) in lda.get_document_topics(dictionary.doc2bow(tweet))]\n",
    "    tweet_vectors.append(probs)\n",
    "tweet_vectors = np.array(tweet_vectors)\n",
    "\n",
    "# kita set banyaknya cluster = banyaknya topik\n",
    "num_clusters = num_topics\n",
    "\n",
    "# gunakan algoritma K-Means, dan lakukan clustering !\n",
    "km = KMeans(n_clusters=num_clusters)\n",
    "km.fit(tweet_vectors)\n",
    "\n",
    "# jika kita ingin melihat indeks cluster untuk setiap tweet/dokumen\n",
    "clusters = km.labels_.tolist()\n",
    "\n",
    "print(clusters)"
   ]
  },
  {
   "cell_type": "code",
   "execution_count": 53,
   "metadata": {},
   "outputs": [
    {
     "name": "stdout",
     "output_type": "stream",
     "text": [
      "[[0.80618477 0.06746034 0.06336243 0.06299248]\n",
      " [0.05259623 0.8414018  0.05436617 0.0516358 ]\n",
      " [0.6244938  0.12520477 0.1251576  0.12514387]\n",
      " [0.04627742 0.04668002 0.8641156  0.04292697]\n",
      " [0.06562262 0.31141058 0.5585325  0.06443434]\n",
      " [0.1388234  0.06630667 0.06642415 0.72844577]\n",
      " [0.0520206  0.84520745 0.05082975 0.0519422 ]\n",
      " [0.03801076 0.41396883 0.51126695 0.03675345]\n",
      " [0.03630483 0.0404459  0.03735645 0.88589287]\n",
      " [0.06312862 0.42790595 0.06880143 0.44016403]\n",
      " [0.61494297 0.13042061 0.12802364 0.12661281]\n",
      " [0.614936   0.13042894 0.12802224 0.12661284]\n",
      " [0.03177203 0.3859676  0.0318071  0.5504533 ]\n",
      " [0.0421292  0.87191015 0.04315391 0.04280671]\n",
      " [0.6150019  0.13036804 0.1280188  0.12661128]\n",
      " [0.04186383 0.87270033 0.04261672 0.04281909]\n",
      " [0.05220068 0.8448282  0.05203149 0.05093963]\n",
      " [0.747111   0.08481783 0.08422901 0.08384211]\n",
      " [0.08335732 0.08499608 0.74552023 0.08612632]\n",
      " [0.05003056 0.05209616 0.8471128  0.05076052]\n",
      " [0.06254663 0.06308518 0.8091954  0.06517283]\n",
      " [0.06367312 0.06257778 0.06304482 0.8107043 ]\n",
      " [0.06252432 0.06330173 0.8103664  0.06380752]\n",
      " [0.06254289 0.06334216 0.8039389  0.07017602]\n",
      " [0.08340319 0.72861725 0.09694387 0.09103564]\n",
      " [0.06253881 0.06629551 0.8073569  0.06380881]\n",
      " [0.03574305 0.03663531 0.8904729  0.0371487 ]\n",
      " [0.0500389  0.05050942 0.8460289  0.05342273]\n",
      " [0.05003317 0.05161805 0.47710866 0.4212401 ]\n",
      " [0.03573664 0.03669556 0.8908047  0.03676308]\n",
      " [0.03574358 0.6439045  0.28335655 0.03699535]\n",
      " [0.03127029 0.03204283 0.0333346  0.90335226]\n",
      " [0.8729491  0.04171298 0.04274556 0.04259238]\n",
      " [0.8470799  0.05016458 0.05239091 0.05036466]\n",
      " [0.8110994  0.06275365 0.06304472 0.06310225]\n",
      " [0.08927506 0.08351929 0.08344728 0.7437584 ]\n",
      " [0.872102   0.04276635 0.04248168 0.04264993]\n",
      " [0.47884426 0.05025673 0.05015594 0.4207431 ]\n",
      " [0.8463754  0.05175708 0.05034781 0.05151971]\n",
      " [0.80245584 0.07035955 0.06423603 0.06294861]\n",
      " [0.8092809  0.06278187 0.06481081 0.06312644]\n",
      " [0.84714955 0.05008347 0.05005035 0.05271661]\n",
      " [0.84706587 0.05017443 0.05234046 0.05041926]\n",
      " [0.34210438 0.05249745 0.05205011 0.55334806]\n",
      " [0.8480881  0.05017826 0.05010782 0.05162587]\n",
      " [0.849493   0.05016506 0.05010088 0.05024105]\n",
      " [0.7471417  0.08381509 0.08446056 0.08458261]\n",
      " [0.87394714 0.04170649 0.04254089 0.04180546]\n",
      " [0.04000821 0.03577353 0.88777864 0.03643961]\n",
      " [0.81111836 0.06274505 0.06303895 0.06309763]]\n"
     ]
    }
   ],
   "source": [
    "print(tweet_vectors)"
   ]
  },
  {
   "cell_type": "code",
   "execution_count": 13,
   "metadata": {},
   "outputs": [
    {
     "name": "stdout",
     "output_type": "stream",
     "text": [
      "cluster 0 words:\n",
      "champion,leagu\n",
      "cluster 1 words:\n",
      "referendum,catalunya\n",
      "cluster 2 words:\n",
      "samsung,galaxi\n",
      "cluster 3 words:\n",
      "full,champion\n"
     ]
    }
   ],
   "source": [
    "\n",
    "# untuk setiap cluster center, kita sort argumen/index berdasarkan nilai probabilitasnya\n",
    "# karena index/argumen adalah id topik.\n",
    "#\n",
    "# jadi, secara intuisi, ini adalah cara untuk mencari topik major yang dibicarakan di sebuah cluster\n",
    "# nantinya, wakil kata cluster akan diambil dari 2 topik major di setiap cluster\n",
    "#\n",
    "# ::-1 artinya reverse list\n",
    "\n",
    "order_centroids = km.cluster_centers_.argsort()[:, ::-1]\n",
    "\n",
    "cluster_names = {}\n",
    "for i in range(num_clusters):\n",
    "    print (\"cluster %d words:\" % i)\n",
    "    \n",
    "    # ambil 2 topik major untuk setiap cluster\n",
    "    topic_words = []\n",
    "    for ind in order_centroids[i, :1]:\n",
    "        topic_words += [dictionary.get(word_id) for (word_id, prob) in lda.get_topic_terms(ind, topn=2)]\n",
    "    \n",
    "    cluster_names[i] = ','.join(topic_words)\n",
    "\n",
    "    print (cluster_names[i])"
   ]
  },
  {
   "cell_type": "code",
   "execution_count": 14,
   "metadata": {},
   "outputs": [],
   "source": [
    "### plot ke 2D ###\n",
    "\n",
    "#reduksi dimensi dengan multidimensional scaling\n",
    "mds = MDS(n_components=2)\n",
    "pos = mds.fit_transform(tweet_vectors)  # shape (n_components, n_samples)\n",
    "\n",
    "#pca = PCA(n_components=2)\n",
    "#pos = pca.fit_transform(tweet_vectors)  # shape (n_components, n_samples)\n",
    "\n",
    "# ambil hasil reduksi ke 2D untuk posisi x dan y --> agar bisa di-plot di bidang kartesius\n",
    "xs, ys = pos[:, 0], pos[:, 1]"
   ]
  },
  {
   "cell_type": "code",
   "execution_count": 15,
   "metadata": {},
   "outputs": [],
   "source": [
    "# fungsi yang digunakan untuk plot cluster dokumen berdsarkan distribusi topik yang dimilikinya\n",
    "# xs adalah posisi axis dari semua dokumen (numpy list of real number)\n",
    "# ys adalah posisi ordinat dari semua dokumen (numpy list of real number)\n",
    "# clusters adalah list dari cluster index untuk masing-masing dokumen\n",
    "# acc_names adalah list dari nama-nama dokumen (dalam hal ini, nama-nama akun tweet)\n",
    "def plot_doc_cluster(xs, ys, clusters, acc_names):\n",
    "    # warna cluster - maksimal 5 cluster\n",
    "    cluster_colors = {0: '#1b9e77', 1: '#d95f02', 2: '#7570b3', 3: '#e7298a', 4: '#66a61e'}\n",
    "\n",
    "    # gunakan Pandas untuk kemudahan proses data, terutama untuk grouping\n",
    "    df = pd.DataFrame(dict(x=xs, y=ys, label=clusters, acc_names=acc_names))\n",
    "    groups = df.groupby('label') #group by cluster!!!\n",
    "\n",
    "    fig, ax = plt.subplots(figsize=(17, 9)) # set size\n",
    "    ax.margins(0.05)\n",
    "\n",
    "    for name, group in groups:\n",
    "        ax.plot(group.x, group.y, marker='o', linestyle='', ms=12, label=cluster_names[name], color=cluster_colors[name], mec='none')\n",
    "        ax.set_aspect('auto')\n",
    "        ax.tick_params(axis= 'x', which='both', bottom='off', top='off', labelbottom='off')\n",
    "        ax.tick_params(axis= 'y', which='both', left='off', top='off', labelleft='off')\n",
    "\n",
    "    ax.legend(numpoints=1)  #show legend with only 1 point\n",
    "\n",
    "    for i in range(len(df)):\n",
    "        ax.text(df.ix[i]['x'], df.ix[i]['y'], df.ix[i]['acc_names'], size=8)\n",
    "\n",
    "    plt.show()\n",
    "\n",
    "# fungsi yang digunakan untuk plot distribusi kata per-topik yang ditemukan\n",
    "def plot_word_dist_per_topic(topic_no, topics_matrix, width=0.5):\n",
    "    _, topic_words = topics_matrix[topic_no]\n",
    "\n",
    "    # hanya top-10 yang paling tinggi probabilitasnya\n",
    "    words = []\n",
    "    probs = []\n",
    "    for word, prob in topic_words:\n",
    "        words.append(word)\n",
    "        probs.append(prob)\n",
    "\n",
    "    ind = np.arange(len(words))\n",
    "\n",
    "    plt.bar(ind, probs, width=width)\n",
    "    plt.xticks(ind + width/2, words, rotation='vertical')\n",
    "    plt.title('Word Distribution of Topic {}'.format(topic_no))\n",
    "    plt.show()"
   ]
  },
  {
   "cell_type": "code",
   "execution_count": 16,
   "metadata": {},
   "outputs": [
    {
     "ename": "AttributeError",
     "evalue": "'DataFrame' object has no attribute 'ix'",
     "output_type": "error",
     "traceback": [
      "\u001b[1;31m---------------------------------------------------------------------------\u001b[0m",
      "\u001b[1;31mAttributeError\u001b[0m                            Traceback (most recent call last)",
      "\u001b[1;32m<ipython-input-16-77d09a80c463>\u001b[0m in \u001b[0;36m<module>\u001b[1;34m\u001b[0m\n\u001b[0;32m      1\u001b[0m \u001b[1;31m# plot cluster dokumen/tweet\u001b[0m\u001b[1;33m\u001b[0m\u001b[1;33m\u001b[0m\u001b[1;33m\u001b[0m\u001b[0m\n\u001b[1;32m----> 2\u001b[1;33m \u001b[0mplot_doc_cluster\u001b[0m\u001b[1;33m(\u001b[0m\u001b[0mxs\u001b[0m\u001b[1;33m,\u001b[0m \u001b[0mys\u001b[0m\u001b[1;33m,\u001b[0m \u001b[0mclusters\u001b[0m\u001b[1;33m,\u001b[0m \u001b[0macc_names\u001b[0m\u001b[1;33m)\u001b[0m\u001b[1;33m\u001b[0m\u001b[1;33m\u001b[0m\u001b[0m\n\u001b[0m",
      "\u001b[1;32m<ipython-input-15-b08089c3c226>\u001b[0m in \u001b[0;36mplot_doc_cluster\u001b[1;34m(xs, ys, clusters, acc_names)\u001b[0m\n\u001b[0;32m     24\u001b[0m \u001b[1;33m\u001b[0m\u001b[0m\n\u001b[0;32m     25\u001b[0m     \u001b[1;32mfor\u001b[0m \u001b[0mi\u001b[0m \u001b[1;32min\u001b[0m \u001b[0mrange\u001b[0m\u001b[1;33m(\u001b[0m\u001b[0mlen\u001b[0m\u001b[1;33m(\u001b[0m\u001b[0mdf\u001b[0m\u001b[1;33m)\u001b[0m\u001b[1;33m)\u001b[0m\u001b[1;33m:\u001b[0m\u001b[1;33m\u001b[0m\u001b[1;33m\u001b[0m\u001b[0m\n\u001b[1;32m---> 26\u001b[1;33m         \u001b[0max\u001b[0m\u001b[1;33m.\u001b[0m\u001b[0mtext\u001b[0m\u001b[1;33m(\u001b[0m\u001b[0mdf\u001b[0m\u001b[1;33m.\u001b[0m\u001b[0mix\u001b[0m\u001b[1;33m[\u001b[0m\u001b[0mi\u001b[0m\u001b[1;33m]\u001b[0m\u001b[1;33m[\u001b[0m\u001b[1;34m'x'\u001b[0m\u001b[1;33m]\u001b[0m\u001b[1;33m,\u001b[0m \u001b[0mdf\u001b[0m\u001b[1;33m.\u001b[0m\u001b[0mix\u001b[0m\u001b[1;33m[\u001b[0m\u001b[0mi\u001b[0m\u001b[1;33m]\u001b[0m\u001b[1;33m[\u001b[0m\u001b[1;34m'y'\u001b[0m\u001b[1;33m]\u001b[0m\u001b[1;33m,\u001b[0m \u001b[0mdf\u001b[0m\u001b[1;33m.\u001b[0m\u001b[0mix\u001b[0m\u001b[1;33m[\u001b[0m\u001b[0mi\u001b[0m\u001b[1;33m]\u001b[0m\u001b[1;33m[\u001b[0m\u001b[1;34m'acc_names'\u001b[0m\u001b[1;33m]\u001b[0m\u001b[1;33m,\u001b[0m \u001b[0msize\u001b[0m\u001b[1;33m=\u001b[0m\u001b[1;36m8\u001b[0m\u001b[1;33m)\u001b[0m\u001b[1;33m\u001b[0m\u001b[1;33m\u001b[0m\u001b[0m\n\u001b[0m\u001b[0;32m     27\u001b[0m \u001b[1;33m\u001b[0m\u001b[0m\n\u001b[0;32m     28\u001b[0m     \u001b[0mplt\u001b[0m\u001b[1;33m.\u001b[0m\u001b[0mshow\u001b[0m\u001b[1;33m(\u001b[0m\u001b[1;33m)\u001b[0m\u001b[1;33m\u001b[0m\u001b[1;33m\u001b[0m\u001b[0m\n",
      "\u001b[1;32m~\\anaconda3\\lib\\site-packages\\pandas\\core\\generic.py\u001b[0m in \u001b[0;36m__getattr__\u001b[1;34m(self, name)\u001b[0m\n\u001b[0;32m   5137\u001b[0m             \u001b[1;32mif\u001b[0m \u001b[0mself\u001b[0m\u001b[1;33m.\u001b[0m\u001b[0m_info_axis\u001b[0m\u001b[1;33m.\u001b[0m\u001b[0m_can_hold_identifiers_and_holds_name\u001b[0m\u001b[1;33m(\u001b[0m\u001b[0mname\u001b[0m\u001b[1;33m)\u001b[0m\u001b[1;33m:\u001b[0m\u001b[1;33m\u001b[0m\u001b[1;33m\u001b[0m\u001b[0m\n\u001b[0;32m   5138\u001b[0m                 \u001b[1;32mreturn\u001b[0m \u001b[0mself\u001b[0m\u001b[1;33m[\u001b[0m\u001b[0mname\u001b[0m\u001b[1;33m]\u001b[0m\u001b[1;33m\u001b[0m\u001b[1;33m\u001b[0m\u001b[0m\n\u001b[1;32m-> 5139\u001b[1;33m             \u001b[1;32mreturn\u001b[0m \u001b[0mobject\u001b[0m\u001b[1;33m.\u001b[0m\u001b[0m__getattribute__\u001b[0m\u001b[1;33m(\u001b[0m\u001b[0mself\u001b[0m\u001b[1;33m,\u001b[0m \u001b[0mname\u001b[0m\u001b[1;33m)\u001b[0m\u001b[1;33m\u001b[0m\u001b[1;33m\u001b[0m\u001b[0m\n\u001b[0m\u001b[0;32m   5140\u001b[0m \u001b[1;33m\u001b[0m\u001b[0m\n\u001b[0;32m   5141\u001b[0m     \u001b[1;32mdef\u001b[0m \u001b[0m__setattr__\u001b[0m\u001b[1;33m(\u001b[0m\u001b[0mself\u001b[0m\u001b[1;33m,\u001b[0m \u001b[0mname\u001b[0m\u001b[1;33m:\u001b[0m \u001b[0mstr\u001b[0m\u001b[1;33m,\u001b[0m \u001b[0mvalue\u001b[0m\u001b[1;33m)\u001b[0m \u001b[1;33m->\u001b[0m \u001b[1;32mNone\u001b[0m\u001b[1;33m:\u001b[0m\u001b[1;33m\u001b[0m\u001b[1;33m\u001b[0m\u001b[0m\n",
      "\u001b[1;31mAttributeError\u001b[0m: 'DataFrame' object has no attribute 'ix'"
     ]
    },
    {
     "data": {
      "image/png": "[encoded data removed]",
      "text/plain": [
       "<Figure size 1224x648 with 1 Axes>"
      ]
     },
     "metadata": {
      "needs_background": "light"
     },
     "output_type": "display_data"
    }
   ],
   "source": [
    "# plot cluster dokumen/tweet\n",
    "plot_doc_cluster(xs, ys, clusters, acc_names)"
   ]
  },
  {
   "cell_type": "code",
   "execution_count": 17,
   "metadata": {},
   "outputs": [
    {
     "data": {
      "image/png": "[encoded data removed]",
      "text/plain": [
       "<Figure size 432x288 with 1 Axes>"
      ]
     },
     "metadata": {
      "needs_background": "light"
     },
     "output_type": "display_data"
    }
   ],
   "source": [
    "# plot word distribution untuk topic 0\n",
    "plot_word_dist_per_topic(0, topics_matrix)"
   ]
  },
  {
   "cell_type": "code",
   "execution_count": 18,
   "metadata": {},
   "outputs": [
    {
     "data": {
      "image/png": "[encoded data removed]",
      "text/plain": [
       "<Figure size 432x288 with 1 Axes>"
      ]
     },
     "metadata": {
      "needs_background": "light"
     },
     "output_type": "display_data"
    }
   ],
   "source": [
    "\n",
    "# plot word distribution untuk topic 1\n",
    "plot_word_dist_per_topic(1, topics_matrix)"
   ]
  },
  {
   "cell_type": "code",
   "execution_count": 19,
   "metadata": {},
   "outputs": [
    {
     "data": {
      "image/png": "[encoded data removed]",
      "text/plain": [
       "<Figure size 432x288 with 1 Axes>"
      ]
     },
     "metadata": {
      "needs_background": "light"
     },
     "output_type": "display_data"
    }
   ],
   "source": [
    "# plot word distribution untuk topic 2\n",
    "plot_word_dist_per_topic(2, topics_matrix)"
   ]
  },
  {
   "cell_type": "code",
   "execution_count": 20,
   "metadata": {},
   "outputs": [
    {
     "data": {
      "image/png": "[encoded data removed]",
      "text/plain": [
       "<Figure size 432x288 with 1 Axes>"
      ]
     },
     "metadata": {
      "needs_background": "light"
     },
     "output_type": "display_data"
    }
   ],
   "source": [
    "# plot word distribution untuk topic 3\n",
    "plot_word_dist_per_topic(3, topics_matrix)"
   ]
  }
 ],
 "metadata": {
  "interpreter": {
   "hash": "383ff6ec061058c8c67bbbe8229d15dd1c5eb70693263c63cde4fbc9e65720c5"
  },
  "kernelspec": {
   "display_name": "Python 3.8.5 64-bit ('base': conda)",
   "language": "python",
   "name": "python3"
  },
  "language_info": {
   "codemirror_mode": {
    "name": "ipython",
    "version": 3
   },
   "file_extension": ".py",
   "mimetype": "text/x-python",
   "name": "python",
   "nbconvert_exporter": "python",
   "pygments_lexer": "ipython3",
   "version": "3.8.5"
  },
  "orig_nbformat": 4
 },
 "nbformat": 4,
 "nbformat_minor": 2
}
