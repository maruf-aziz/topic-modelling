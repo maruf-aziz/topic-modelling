{
 "cells": [
  {
   "cell_type": "code",
   "execution_count": 1,
   "metadata": {},
   "outputs": [],
   "source": [
    "import pandas as pd\n",
    "\n",
    "from nltk.tokenize import word_tokenize\n",
    "from nltk.corpus import stopwords\n",
    "from string import punctuation\n",
    "\n",
    "# sw_indo = stopwords.words('indonesian') + list(punctuation)\n",
    "sw_english = stopwords.words('english') + list(punctuation)"
   ]
  },
  {
   "cell_type": "markdown",
   "metadata": {},
   "source": [
    "# Import Dataset"
   ]
  },
  {
   "cell_type": "code",
   "execution_count": 31,
   "metadata": {},
   "outputs": [
    {
     "data": {
      "text/html": [
       "<div>\n",
       "<style scoped>\n",
       "    .dataframe tbody tr th:only-of-type {\n",
       "        vertical-align: middle;\n",
       "    }\n",
       "\n",
       "    .dataframe tbody tr th {\n",
       "        vertical-align: top;\n",
       "    }\n",
       "\n",
       "    .dataframe thead th {\n",
       "        text-align: right;\n",
       "    }\n",
       "</style>\n",
       "<table border=\"1\" class=\"dataframe\">\n",
       "  <thead>\n",
       "    <tr style=\"text-align: right;\">\n",
       "      <th></th>\n",
       "      <th>web-scraper-order</th>\n",
       "      <th>web-scraper-start-url</th>\n",
       "      <th>vol</th>\n",
       "      <th>vol-href</th>\n",
       "      <th>title</th>\n",
       "      <th>title-href</th>\n",
       "      <th>abstraksi</th>\n",
       "    </tr>\n",
       "  </thead>\n",
       "  <tbody>\n",
       "    <tr>\n",
       "      <th>0</th>\n",
       "      <td>1641093346-303</td>\n",
       "      <td>http://ijere.iaescore.com/index.php/IJERE/issu...</td>\n",
       "      <td>Vol 9, No 1: March 2020</td>\n",
       "      <td>http://ijere.iaescore.com/index.php/IJERE/issu...</td>\n",
       "      <td>Why some religious individuals are not emotion...</td>\n",
       "      <td>http://ijere.iaescore.com/index.php/IJERE/arti...</td>\n",
       "      <td>In two studies, we intend to investigate wheth...</td>\n",
       "    </tr>\n",
       "    <tr>\n",
       "      <th>1</th>\n",
       "      <td>1641093177-244</td>\n",
       "      <td>http://ijere.iaescore.com/index.php/IJERE/issu...</td>\n",
       "      <td>Vol 8, No 3: September 2019</td>\n",
       "      <td>http://ijere.iaescore.com/index.php/IJERE/issu...</td>\n",
       "      <td>The impact of parental involvement and educati...</td>\n",
       "      <td>http://ijere.iaescore.com/index.php/IJERE/arti...</td>\n",
       "      <td>The academic achievement of students in school...</td>\n",
       "    </tr>\n",
       "    <tr>\n",
       "      <th>2</th>\n",
       "      <td>1641093953-529</td>\n",
       "      <td>http://ijere.iaescore.com/index.php/IJERE/issu...</td>\n",
       "      <td>Vol 10, No 3: September 2021</td>\n",
       "      <td>http://ijere.iaescore.com/index.php/IJERE/issu...</td>\n",
       "      <td>Student experience of using mobile devices for...</td>\n",
       "      <td>http://ijere.iaescore.com/index.php/IJERE/arti...</td>\n",
       "      <td>Mobile devices have been utilized as an emergi...</td>\n",
       "    </tr>\n",
       "    <tr>\n",
       "      <th>3</th>\n",
       "      <td>1641093502-362</td>\n",
       "      <td>http://ijere.iaescore.com/index.php/IJERE/issu...</td>\n",
       "      <td>Vol 9, No 3: September 2020</td>\n",
       "      <td>http://ijere.iaescore.com/index.php/IJERE/issu...</td>\n",
       "      <td>Interaction monitoring model of logo counselin...</td>\n",
       "      <td>http://ijere.iaescore.com/index.php/IJERE/arti...</td>\n",
       "      <td>The purpose of this research is to develop the...</td>\n",
       "    </tr>\n",
       "    <tr>\n",
       "      <th>4</th>\n",
       "      <td>1641093291-286</td>\n",
       "      <td>http://ijere.iaescore.com/index.php/IJERE/issu...</td>\n",
       "      <td>Vol 9, No 1: March 2020</td>\n",
       "      <td>http://ijere.iaescore.com/index.php/IJERE/issu...</td>\n",
       "      <td>Literation movement for leading schools: Best ...</td>\n",
       "      <td>http://ijere.iaescore.com/index.php/IJERE/arti...</td>\n",
       "      <td>The school literacy movement is the first step...</td>\n",
       "    </tr>\n",
       "  </tbody>\n",
       "</table>\n",
       "</div>"
      ],
      "text/plain": [
       "  web-scraper-order                              web-scraper-start-url  \\\n",
       "0    1641093346-303  http://ijere.iaescore.com/index.php/IJERE/issu...   \n",
       "1    1641093177-244  http://ijere.iaescore.com/index.php/IJERE/issu...   \n",
       "2    1641093953-529  http://ijere.iaescore.com/index.php/IJERE/issu...   \n",
       "3    1641093502-362  http://ijere.iaescore.com/index.php/IJERE/issu...   \n",
       "4    1641093291-286  http://ijere.iaescore.com/index.php/IJERE/issu...   \n",
       "\n",
       "                            vol  \\\n",
       "0       Vol 9, No 1: March 2020   \n",
       "1   Vol 8, No 3: September 2019   \n",
       "2  Vol 10, No 3: September 2021   \n",
       "3   Vol 9, No 3: September 2020   \n",
       "4       Vol 9, No 1: March 2020   \n",
       "\n",
       "                                            vol-href  \\\n",
       "0  http://ijere.iaescore.com/index.php/IJERE/issu...   \n",
       "1  http://ijere.iaescore.com/index.php/IJERE/issu...   \n",
       "2  http://ijere.iaescore.com/index.php/IJERE/issu...   \n",
       "3  http://ijere.iaescore.com/index.php/IJERE/issu...   \n",
       "4  http://ijere.iaescore.com/index.php/IJERE/issu...   \n",
       "\n",
       "                                               title  \\\n",
       "0  Why some religious individuals are not emotion...   \n",
       "1  The impact of parental involvement and educati...   \n",
       "2  Student experience of using mobile devices for...   \n",
       "3  Interaction monitoring model of logo counselin...   \n",
       "4  Literation movement for leading schools: Best ...   \n",
       "\n",
       "                                          title-href  \\\n",
       "0  http://ijere.iaescore.com/index.php/IJERE/arti...   \n",
       "1  http://ijere.iaescore.com/index.php/IJERE/arti...   \n",
       "2  http://ijere.iaescore.com/index.php/IJERE/arti...   \n",
       "3  http://ijere.iaescore.com/index.php/IJERE/arti...   \n",
       "4  http://ijere.iaescore.com/index.php/IJERE/arti...   \n",
       "\n",
       "                                           abstraksi  \n",
       "0  In two studies, we intend to investigate wheth...  \n",
       "1  The academic achievement of students in school...  \n",
       "2  Mobile devices have been utilized as an emergi...  \n",
       "3  The purpose of this research is to develop the...  \n",
       "4  The school literacy movement is the first step...  "
      ]
     },
     "execution_count": 31,
     "metadata": {},
     "output_type": "execute_result"
    }
   ],
   "source": [
    "# df = pd.read_csv(\"abcnews-date-text.csv\")\n",
    "df = pd.read_csv(\"jurnal2.csv\")\n",
    "# df = pd.read_csv(\"twitter.csv\", delimiter=\"###\")\n",
    "df.head()"
   ]
  },
  {
   "cell_type": "markdown",
   "metadata": {},
   "source": [
    "# Extraxt BoW"
   ]
  },
  {
   "cell_type": "code",
   "execution_count": 3,
   "metadata": {},
   "outputs": [],
   "source": [
    "from sklearn.feature_extraction.text import CountVectorizer"
   ]
  },
  {
   "cell_type": "code",
   "execution_count": 4,
   "metadata": {},
   "outputs": [],
   "source": [
    "bow = CountVectorizer(ngram_range=(1, 2), tokenizer=word_tokenize, stop_words=sw_english, min_df=5)"
   ]
  },
  {
   "cell_type": "code",
   "execution_count": 32,
   "metadata": {},
   "outputs": [],
   "source": [
    "# bow_matrix = bow.fit_transform(df.headline_text)\n",
    "# bow_matrix = bow.fit_transform(df.tweet)\n",
    "bow_matrix = bow.fit_transform(df.abstraksi)"
   ]
  },
  {
   "cell_type": "code",
   "execution_count": 33,
   "metadata": {},
   "outputs": [
    {
     "name": "stdout",
     "output_type": "stream",
     "text": [
      "  (0, 2633)\t1\n",
      "  (0, 2402)\t1\n",
      "  (0, 1291)\t1\n",
      "  (0, 2758)\t1\n",
      "  (0, 899)\t1\n",
      "  (0, 2018)\t1\n",
      "  (0, 1287)\t3\n",
      "  (0, 2031)\t4\n",
      "  (0, 1662)\t4\n",
      "  (0, 803)\t4\n",
      "  (0, 1256)\t4\n",
      "  (0, 144)\t1\n",
      "  (0, 1696)\t1\n",
      "  (0, 2403)\t3\n",
      "  (0, 598)\t1\n",
      "  (0, 424)\t1\n",
      "  (0, 816)\t1\n",
      "  (0, 2145)\t3\n",
      "  (0, 264)\t1\n",
      "  (0, 2565)\t1\n",
      "  (0, 978)\t1\n",
      "  (0, 708)\t1\n",
      "  (0, 2245)\t1\n",
      "  (0, 1809)\t1\n",
      "  (0, 1594)\t1\n",
      "  :\t:\n",
      "  (700, 2500)\t1\n",
      "  (700, 134)\t1\n",
      "  (700, 632)\t1\n",
      "  (700, 88)\t1\n",
      "  (700, 1258)\t1\n",
      "  (700, 2661)\t2\n",
      "  (700, 1321)\t1\n",
      "  (700, 245)\t1\n",
      "  (700, 529)\t1\n",
      "  (700, 1688)\t1\n",
      "  (700, 2311)\t1\n",
      "  (700, 1689)\t1\n",
      "  (700, 1376)\t1\n",
      "  (700, 745)\t1\n",
      "  (700, 933)\t1\n",
      "  (700, 1941)\t1\n",
      "  (700, 426)\t1\n",
      "  (700, 121)\t1\n",
      "  (700, 743)\t1\n",
      "  (700, 479)\t3\n",
      "  (700, 604)\t1\n",
      "  (700, 806)\t1\n",
      "  (700, 2605)\t1\n",
      "  (700, 24)\t1\n",
      "  (700, 539)\t1\n"
     ]
    }
   ],
   "source": [
    "print(bow_matrix)"
   ]
  },
  {
   "cell_type": "markdown",
   "metadata": {},
   "source": [
    "# Topic Modelling"
   ]
  },
  {
   "cell_type": "code",
   "execution_count": 34,
   "metadata": {},
   "outputs": [],
   "source": [
    "vocab = bow.get_feature_names()"
   ]
  },
  {
   "cell_type": "markdown",
   "metadata": {},
   "source": [
    "# LSA dan LDA"
   ]
  },
  {
   "cell_type": "markdown",
   "metadata": {},
   "source": [
    "## LSA (Latent Semantic Analysis)"
   ]
  },
  {
   "cell_type": "code",
   "execution_count": 35,
   "metadata": {},
   "outputs": [
    {
     "data": {
      "text/plain": [
       "2817"
      ]
     },
     "execution_count": 35,
     "metadata": {},
     "output_type": "execute_result"
    }
   ],
   "source": [
    "len(vocab)"
   ]
  },
  {
   "cell_type": "code",
   "execution_count": 36,
   "metadata": {},
   "outputs": [],
   "source": [
    "from sklearn.decomposition import TruncatedSVD"
   ]
  },
  {
   "cell_type": "code",
   "execution_count": 47,
   "metadata": {},
   "outputs": [],
   "source": [
    "lsa = TruncatedSVD(n_components=5, n_iter=2000, random_state=42)\n",
    "# lsa = TruncatedSVD(n_components=4, n_iter=5000, random_state=42)"
   ]
  },
  {
   "cell_type": "code",
   "execution_count": 48,
   "metadata": {},
   "outputs": [],
   "source": [
    "lsa_matrix = lsa.fit_transform(bow_matrix)"
   ]
  },
  {
   "cell_type": "code",
   "execution_count": 49,
   "metadata": {},
   "outputs": [
    {
     "name": "stdout",
     "output_type": "stream",
     "text": [
      "(701, 2817)\n",
      "(701, 5)\n",
      "(5, 2817)\n"
     ]
    }
   ],
   "source": [
    "print(bow_matrix.shape) # hidden\n",
    "print(lsa_matrix.shape) # weight / code\n",
    "print(lsa.components_.shape) # fitur /topic"
   ]
  },
  {
   "cell_type": "code",
   "execution_count": 50,
   "metadata": {},
   "outputs": [
    {
     "name": "stdout",
     "output_type": "stream",
     "text": [
      "[[ 2.57635042  1.20146288 -0.79490732 -0.3972704  -0.20848764]\n",
      " [ 4.23917021 -1.32495958 -1.74929518  0.08724028  0.05980991]\n",
      " [10.66031784 -7.154686    7.60476467  2.42489809  0.9669494 ]\n",
      " ...\n",
      " [ 3.63591998 -0.24061606 -2.0340638   0.69918994  0.3002053 ]\n",
      " [ 1.02518289  0.75157759  0.02331639 -1.30582198  2.11149204]\n",
      " [ 2.52942001  0.33425552 -0.50062141 -1.66198007  1.5363698 ]]\n"
     ]
    }
   ],
   "source": [
    "print(lsa_matrix)"
   ]
  },
  {
   "cell_type": "markdown",
   "metadata": {},
   "source": [
    "## Function Get Topic"
   ]
  },
  {
   "cell_type": "code",
   "execution_count": 51,
   "metadata": {},
   "outputs": [],
   "source": [
    "def get_topic(model):\n",
    "  return [[vocab[idx] for idx in reversed(comp.argsort()[-6:]) if vocab[idx].isalnum()] for comp in model.components_]"
   ]
  },
  {
   "cell_type": "code",
   "execution_count": 52,
   "metadata": {},
   "outputs": [
    {
     "data": {
      "text/plain": [
       "[['students', 'study', 'learning', 'research', 'teachers'],\n",
       " ['teachers', 'school', 'education', 'study'],\n",
       " ['learning', 'teachers', 'teaching', 'language', 'teacher'],\n",
       " ['teachers', 'students', 'teaching'],\n",
       " ['education', 'study', 'higher', 'institutions', 'skills']]"
      ]
     },
     "execution_count": 52,
     "metadata": {},
     "output_type": "execute_result"
    }
   ],
   "source": [
    "get_topic(lsa)"
   ]
  },
  {
   "cell_type": "markdown",
   "metadata": {},
   "source": [
    "## LDA (Latent Dirichlet Allocation)"
   ]
  },
  {
   "cell_type": "code",
   "execution_count": 53,
   "metadata": {},
   "outputs": [],
   "source": [
    "from sklearn.decomposition import LatentDirichletAllocation"
   ]
  },
  {
   "cell_type": "code",
   "execution_count": 54,
   "metadata": {},
   "outputs": [],
   "source": [
    "lda = LatentDirichletAllocation(n_components=5, max_iter=2000, random_state=42)\n",
    "# lda = LatentDirichletAllocation(n_components=4, max_iter=5000, random_state=42)"
   ]
  },
  {
   "cell_type": "code",
   "execution_count": 55,
   "metadata": {},
   "outputs": [],
   "source": [
    "lda_matrix = lda.fit_transform(bow_matrix)"
   ]
  },
  {
   "cell_type": "code",
   "execution_count": 56,
   "metadata": {},
   "outputs": [
    {
     "data": {
      "text/plain": [
       "[['study', 'test', 'data', 'items', 'instrument', 'reliability'],\n",
       " ['students', 'study', 'research', 'data', 'teachers'],\n",
       " ['study', 'school', 'teachers', 'academic', 'performance'],\n",
       " ['learning', 'students', 'research', 'study', 'model', 'results'],\n",
       " ['education', 'teachers', 'study', 'skills', 'knowledge', 'teacher']]"
      ]
     },
     "execution_count": 56,
     "metadata": {},
     "output_type": "execute_result"
    }
   ],
   "source": [
    "get_topic(lda)"
   ]
  },
  {
   "cell_type": "code",
   "execution_count": 57,
   "metadata": {},
   "outputs": [
    {
     "name": "stdout",
     "output_type": "stream",
     "text": [
      "[['study', 'test', 'data', 'items', 'instrument', 'reliability'], ['students', 'study', 'research', 'data', 'teachers'], ['study', 'school', 'teachers', 'academic', 'performance'], ['learning', 'students', 'research', 'study', 'model', 'results'], ['education', 'teachers', 'study', 'skills', 'knowledge', 'teacher']]\n"
     ]
    }
   ],
   "source": [
    "print (get_topic(lda))"
   ]
  }
 ],
 "metadata": {
  "interpreter": {
   "hash": "383ff6ec061058c8c67bbbe8229d15dd1c5eb70693263c63cde4fbc9e65720c5"
  },
  "kernelspec": {
   "display_name": "Python 3.8.5 64-bit ('base': conda)",
   "language": "python",
   "name": "python3"
  },
  "language_info": {
   "codemirror_mode": {
    "name": "ipython",
    "version": 3
   },
   "file_extension": ".py",
   "mimetype": "text/x-python",
   "name": "python",
   "nbconvert_exporter": "python",
   "pygments_lexer": "ipython3",
   "version": "3.8.5"
  },
  "orig_nbformat": 4
 },
 "nbformat": 4,
 "nbformat_minor": 2
}
